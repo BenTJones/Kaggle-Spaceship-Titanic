{
 "cells": [
  {
   "cell_type": "markdown",
   "id": "5febe303",
   "metadata": {},
   "source": [
    "A notebook with the model and fitting using a pipeline to impute rather than manually."
   ]
  }
 ],
 "metadata": {
  "kernelspec": {
   "display_name": ".venv",
   "language": "python",
   "name": "python3"
  },
  "language_info": {
   "name": "python",
   "version": "3.12.7"
  }
 },
 "nbformat": 4,
 "nbformat_minor": 5
}
