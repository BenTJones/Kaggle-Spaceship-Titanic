{
 "cells": [
  {
   "cell_type": "code",
   "execution_count": null,
   "id": "ae97ed8b",
   "metadata": {},
   "outputs": [],
   "source": [
    "import pandas as pd\n",
    "import numpy as np\n",
    "import seaborn as sns\n",
    "import matplotlib.pyplot as plt"
   ]
  },
  {
   "cell_type": "markdown",
   "id": "78af75a9",
   "metadata": {},
   "source": [
    "1. Below is a code cell, purpose of which is confirming basic stats like Dataframe shape and the proportion of Missing values in the training data."
   ]
  },
  {
   "cell_type": "code",
   "execution_count": null,
   "id": "c2174a34",
   "metadata": {},
   "outputs": [],
   "source": [
    "\n",
    "train = pd.read_csv('../data/raw/train.csv')\n",
    "test = pd.read_csv('../data/raw/test.csv')\n",
    "\n",
    "train_raw = train.copy()\n",
    "test_raw = test.copy()\n",
    "\n",
    "train_pipeline = train_raw.copy()\n",
    "test_pipeline = test_raw.copy()\n",
    "\n",
    "print(f'Train Shape: {train.shape}')\n",
    "print(f'Test Shape: {test.shape}')\n",
    "\n",
    "display(train.head())\n",
    "display(train.isna().mean().sort_values(ascending=False))"
   ]
  },
  {
   "cell_type": "markdown",
   "id": "8ae948a8",
   "metadata": {},
   "source": [
    "Step 2 Data Analysis and Data Cleaning "
   ]
  },
  {
   "cell_type": "markdown",
   "id": "ec5e7d00",
   "metadata": {},
   "source": [
    "2.1 Missing Value Overview\n",
    "To accurately clean data, it's needed to know proportion of missing data of each column. From running the only full cols are Passenger ID and whether they made it. "
   ]
  },
  {
   "cell_type": "code",
   "execution_count": null,
   "id": "ecabe329",
   "metadata": {},
   "outputs": [],
   "source": [
    "missing_frac = train.isna().mean()\n",
    "missing_frac = missing_frac.sort_values(ascending= False)\n",
    "print(missing_frac)\n",
    "full_cols = missing_frac[missing_frac == 0].index.to_list()\n",
    "#print(full_cols)"
   ]
  },
  {
   "cell_type": "markdown",
   "id": "005e1a6a",
   "metadata": {},
   "source": [
    "2.2 Inspection of indivual columns and their distributions: range and obvious outliers."
   ]
  },
  {
   "cell_type": "code",
   "execution_count": null,
   "id": "856d209e",
   "metadata": {},
   "outputs": [],
   "source": [
    "numeric_cols = ['Age', 'Spa', 'FoodCourt','RoomService','VRDeck','ShoppingMall']\n",
    "print('Numeric Column summaries:')\n",
    "display(train[numeric_cols].describe())\n",
    "\n",
    "cat_cols = ['HomePlanet', 'CryoSleep', 'Destination', 'VIP']\n",
    "for col in cat_cols:\n",
    "    print(f'{col}')\n",
    "    print(train[col].value_counts(dropna= False))\n",
    "    print()"
   ]
  },
  {
   "cell_type": "markdown",
   "id": "e283ee18",
   "metadata": {},
   "source": [
    "2.3 Univariate Analysis: Numerical Features and Categorical Features "
   ]
  },
  {
   "cell_type": "code",
   "execution_count": null,
   "id": "ce3ad6c9",
   "metadata": {},
   "outputs": [],
   "source": [
    "\n",
    "for col in numeric_cols:\n",
    "    fig, (ax1,ax2) = plt.subplots(1,2,figsize=(12,4))\n",
    "    \n",
    "    #Histogram\n",
    "    ax1.hist(train[col].dropna(), bins = 30)\n",
    "    ax1.set_title(f'{col} distribution')\n",
    "    ax1.set_label(col)\n",
    "    \n",
    "    #Boxplot \n",
    "    ax2.boxplot(train[col].dropna(), vert=False)\n",
    "    ax2.set_title(f'{col} — boxplot')\n",
    "    ax2.set_xlabel(col)\n",
    "    \n",
    "    plt.tight_layout()\n",
    "    plt.show()\n",
    "    \n",
    "    missing_pct = missing_frac[col] * 100\n",
    "    print(f'{col}: {missing_pct:.1f}% missing\\n')\n"
   ]
  },
  {
   "cell_type": "markdown",
   "id": "6ab0d510",
   "metadata": {},
   "source": [
    "2.4 Bivariate Analysis for both categorical and numerical features\n",
    "First Code box shows the count plot for the categorical data and then splits the count into Transported vs Not based on the categorical column its in.\n",
    "Second box is for numerical data shows the distribution of transported vs Not of the specific columns."
   ]
  },
  {
   "cell_type": "code",
   "execution_count": null,
   "id": "61dd46c0",
   "metadata": {},
   "outputs": [],
   "source": [
    "for col in cat_cols:\n",
    "    fig, (ax1,ax2) = plt.subplots(1,2,figsize = (12,5))\n",
    "    sns.countplot(data = train, x = col, ax = ax1)\n",
    "    ax1.set_title(f'Passenger Count by {col}')\n",
    "    \n",
    "    \n",
    "    sns.countplot(data=train, x= col, hue='Transported', ax = ax2)\n",
    "    ax1.set_title(f'Transported Status by {col}')\n",
    "    \n",
    "    plt.tight_layout()\n",
    "    plt.show()\n"
   ]
  },
  {
   "cell_type": "code",
   "execution_count": null,
   "id": "31c7a8ec",
   "metadata": {},
   "outputs": [],
   "source": [
    "for col in numeric_cols:\n",
    "    sns.boxplot(data = train, x = 'Transported', y = col)\n",
    "    plt.title(f'{col} Distribution by Transported Status')\n",
    "    plt.show()"
   ]
  },
  {
   "cell_type": "markdown",
   "id": "b4c2a003",
   "metadata": {},
   "source": [
    "3. Data Preprocessing and Feature Engineering"
   ]
  },
  {
   "cell_type": "markdown",
   "id": "e580a8f8",
   "metadata": {},
   "source": [
    "3.1 Missing Data Handling and Imputation"
   ]
  },
  {
   "cell_type": "code",
   "execution_count": null,
   "id": "6e091f6e",
   "metadata": {},
   "outputs": [],
   "source": [
    "numeric_medians = {col: train_raw[col].median() for col in numeric_cols}\n",
    "cat_modes = {col: train_raw[col].mode().iloc[0] for col in cat_cols}\n",
    "\n",
    "for df in [train,test]:\n",
    "    df[numeric_cols] = df[numeric_cols].fillna(value= numeric_medians)\n",
    "    df[cat_cols] = df[cat_cols].fillna(value = cat_modes)\n",
    "    "
   ]
  },
  {
   "cell_type": "markdown",
   "id": "868e6711",
   "metadata": {},
   "source": [
    "3.2 Feature Engineering and imputation"
   ]
  },
  {
   "cell_type": "markdown",
   "id": "08ca3d8a",
   "metadata": {},
   "source": [
    "Splits Cabin into Deck, Room Number and side of ship. Also makes Total Spend column and update the columns."
   ]
  },
  {
   "cell_type": "code",
   "execution_count": null,
   "id": "f168fb4c",
   "metadata": {},
   "outputs": [],
   "source": [
    "new_cols = ['Deck','Num','Side']\n",
    "spending_cols = ['RoomService', 'FoodCourt', 'ShoppingMall', 'Spa', 'VRDeck']\n",
    "\n",
    "for df in [train,test]:\n",
    "    #Creation of group category which can be used to calculate group size outside of the for loop \n",
    "    df['TotalSpend'] = df[spending_cols].sum(axis = 1)\n",
    "    df['Group'] = df['PassengerId'].str.split('_').str[0]\n",
    "    \n",
    "    #Splitting of Cabin into Deck and Side \n",
    "    df[new_cols] = df['Cabin'].str.split('/', expand= True)\n",
    "\n",
    "\n",
    "cat_cols_extended = cat_cols + new_cols\n",
    "numeric_cols_extended = numeric_cols + ['TotalSpend']"
   ]
  },
  {
   "cell_type": "markdown",
   "id": "7011f79e",
   "metadata": {},
   "source": [
    "Calculation of group size and addition to Dataframes"
   ]
  },
  {
   "cell_type": "code",
   "execution_count": null,
   "id": "fd4e8d80",
   "metadata": {},
   "outputs": [],
   "source": [
    "group_sizes = pd.concat([train['Group'], test['Group']]).value_counts().rename('GroupSize')\n",
    "\n",
    "train['GroupSize'] = train['Group'].map(group_sizes)\n",
    "test['GroupSize'] = test['Group'].map(group_sizes)\n",
    "\n",
    "numeric_cols_extended = numeric_cols_extended + ['GroupSize']\n",
    "cat_cols_extended.remove('Num')"
   ]
  },
  {
   "cell_type": "markdown",
   "id": "5b833a89",
   "metadata": {},
   "source": [
    "Drops Non-Needed columns "
   ]
  },
  {
   "cell_type": "code",
   "execution_count": null,
   "id": "e72cdeb9",
   "metadata": {},
   "outputs": [],
   "source": [
    "cols_to_drop = ['Num','Group','PassengerId','Cabin']\n",
    "test_pass_ids = test['PassengerId']\n",
    "train_model = train.drop(columns= cols_to_drop)\n",
    "test_model = test.drop(columns= cols_to_drop)\n",
    "\n",
    "y = train_model['Transported'].astype(int)\n",
    "x = train_model.drop(columns=['Transported'])\n"
   ]
  },
  {
   "cell_type": "markdown",
   "id": "d951c117",
   "metadata": {},
   "source": [
    "4. Building and Evaluating a ML model"
   ]
  },
  {
   "cell_type": "markdown",
   "id": "689303cc",
   "metadata": {},
   "source": [
    "4.1 Splitting train data into training and validation"
   ]
  },
  {
   "cell_type": "code",
   "execution_count": null,
   "id": "7b885388",
   "metadata": {},
   "outputs": [],
   "source": [
    "from sklearn.model_selection import train_test_split\n",
    "\n",
    "x_train,x_val,y_train,y_val = train_test_split(\n",
    "    x,y,\n",
    "    test_size= 0.2,\n",
    "    stratify = y,\n",
    "    random_state= 42\n",
    ")"
   ]
  },
  {
   "cell_type": "markdown",
   "id": "7414559d",
   "metadata": {},
   "source": [
    "4.2 Setting up a preprocessor for Categorical and Numerical features"
   ]
  },
  {
   "cell_type": "code",
   "execution_count": null,
   "id": "c758206f",
   "metadata": {},
   "outputs": [],
   "source": [
    "from sklearn.compose import ColumnTransformer\n",
    "from sklearn.preprocessing import OneHotEncoder,StandardScaler\n",
    "\n",
    "cat_feats = cat_cols_extended\n",
    "num_feats = numeric_cols_extended\n",
    "\n",
    "cat_transformer = OneHotEncoder(handle_unknown= 'ignore',sparse_output= False)\n",
    "num_transformer = StandardScaler()\n",
    "\n",
    "preprocessor = ColumnTransformer([\n",
    "    ('cat',cat_transformer,cat_feats),\n",
    "    ('num',num_transformer,num_feats)\n",
    "])\n"
   ]
  },
  {
   "cell_type": "markdown",
   "id": "cfa6c197",
   "metadata": {},
   "source": [
    "4.3 Testing different Models for the pipeline "
   ]
  },
  {
   "cell_type": "markdown",
   "id": "a3a10fca",
   "metadata": {},
   "source": [
    "Evaluation Function"
   ]
  },
  {
   "cell_type": "code",
   "execution_count": null,
   "id": "39ef9d0d",
   "metadata": {},
   "outputs": [],
   "source": [
    "from sklearn.metrics import accuracy_score,f1_score,roc_auc_score\n",
    "from sklearn.model_selection import cross_val_predict\n",
    "\n",
    "def eval_model(model,x,y):\n",
    "    y_pred = cross_val_predict(model,x,y, cv =5)\n",
    "    y_proba = cross_val_predict(model,x,y, cv=5, method = 'predict_proba')[:,1] #Probability of y being True (1)\n",
    "    \n",
    "    accuracy = accuracy_score(y,y_pred)\n",
    "    F1 = f1_score(y,y_pred)\n",
    "    ROC = roc_auc_score(y,y_proba)\n",
    "    \n",
    "    print(f\"Accuracy: {accuracy:.4f} | F1: {F1:.4f} | ROC AUC: {ROC:.4f}\")"
   ]
  },
  {
   "cell_type": "markdown",
   "id": "f7079dd3",
   "metadata": {},
   "source": [
    "\n",
    "Models and Comparison of each"
   ]
  },
  {
   "cell_type": "code",
   "execution_count": null,
   "id": "e238592a",
   "metadata": {},
   "outputs": [],
   "source": [
    "from sklearn.pipeline import Pipeline\n",
    "from sklearn.dummy import DummyClassifier\n",
    "from sklearn.neighbors import KNeighborsClassifier\n",
    "from lightgbm import LGBMClassifier\n",
    "from xgboost import XGBClassifier\n",
    "from sklearn.ensemble import GradientBoostingClassifier\n",
    "from sklearn.ensemble import RandomForestClassifier\n",
    "from sklearn.linear_model import LogisticRegression\n",
    "\n",
    "pipeline = Pipeline([\n",
    "    ('preprocessor',preprocessor),\n",
    "    ('classifier',None)\n",
    "])\n",
    "\n",
    "models = {\n",
    "    'Logistic Regression': LogisticRegression(max_iter=1000),\n",
    "    'Random Forest': RandomForestClassifier(n_estimators=200),\n",
    "    'Gradient Boosting': GradientBoostingClassifier(),\n",
    "    'XGBoost': XGBClassifier( eval_metric='logloss'),\n",
    "    'LightGBM': LGBMClassifier(verbose = -1),\n",
    "    'KNN': KNeighborsClassifier(),\n",
    "    'Dummy Classifier' : DummyClassifier(strategy='most_frequent')\n",
    "}\n",
    "\n",
    "for model, clf in models.items():\n",
    "    pipeline.set_params(classifier = clf)\n",
    "    print(model)\n",
    "    eval_model(pipeline,x,y)\n",
    "    print()"
   ]
  },
  {
   "cell_type": "markdown",
   "id": "810058d9",
   "metadata": {},
   "source": [
    "4.4 Tuning of Parameters for the Gradient Boosting Model (best performance determined in prev step)     "
   ]
  },
  {
   "cell_type": "markdown",
   "id": "7af5ceed",
   "metadata": {},
   "source": [
    "Intial parameter sweep with RandomizedSearchCV to find values to build grid around."
   ]
  },
  {
   "cell_type": "code",
   "execution_count": null,
   "id": "aebba42e",
   "metadata": {},
   "outputs": [
    {
     "name": "stdout",
     "output_type": "stream",
     "text": [
      "Best params (by F1): {'classifier__learning_rate': np.float64(0.016966252220214195), 'classifier__max_depth': 4, 'classifier__min_samples_split': 16, 'classifier__n_estimators': 363, 'classifier__subsample': np.float64(0.6137554084460873)}\n",
      "Mean test ROC AUC for best: 0.8883043549444096\n"
     ]
    }
   ],
   "source": [
    "from sklearn.model_selection import RandomizedSearchCV\n",
    "from scipy.stats import uniform, randint\n",
    "\n",
    "GB_pipeline = Pipeline([\n",
    "    ('preprocessor',preprocessor),\n",
    "    ('classifier',GradientBoostingClassifier())        \n",
    "])\n",
    "\n",
    "scoring = {\n",
    "    'Accuracy': 'accuracy',\n",
    "    'F1' : 'f1',\n",
    "    'ROC_AUC':'roc_auc'\n",
    "}\n",
    "\n",
    "param_dist = {\n",
    "    'classifier_n_estimators': randint(100, 500),\n",
    "    'classifier_learning_rate': uniform(0.001, 1),\n",
    "    'classifier_max_depth': randint(3, 10),\n",
    "    'classifier_subsample': uniform(0.6, 0.4),\n",
    "    'classifier_min_samples_split': randint(2, 20)\n",
    "}\n",
    "\n",
    "rand = RandomizedSearchCV(\n",
    "    GB_pipeline,\n",
    "    param_distributions= param_dist,\n",
    "    n_iter = 50,\n",
    "    scoring = scoring,\n",
    "    refit= 'F1',\n",
    "    n_jobs=-1,\n",
    "    random_state=42\n",
    ")\n",
    "rand.fit(x,y)\n",
    "results = rand.cv_results_\n",
    "print(\"Best params (by F1):\", rand.best_params_)\n",
    "print(\"Mean test ROC AUC for best:\", \n",
    "      results['mean_test_ROC_AUC'][rand.best_index_])\n"
   ]
  },
  {
   "cell_type": "markdown",
   "id": "88c2d80b",
   "metadata": {},
   "source": [
    "Grid Search Using the Found best parameters from above"
   ]
  },
  {
   "cell_type": "code",
   "execution_count": null,
   "id": "69fdc416",
   "metadata": {},
   "outputs": [
    {
     "name": "stdout",
     "output_type": "stream",
     "text": [
      "Best Paramters: {'classifier__learning_rate': np.float64(0.016966252220214195), 'classifier__max_depth': 4, 'classifier__min_samples_split': 20, 'classifier__n_estimators': 363, 'classifier__subsample': np.float64(0.7137554084460873)}\n",
      "Best Score 0.8114338266342467\n"
     ]
    }
   ],
   "source": [
    "from sklearn.model_selection import GridSearchCV\n",
    "\n",
    "rand_search_best_params = {\n",
    "    'classifier_learning_rate': np.float64(0.016966252220214195),\n",
    "    'classifier_max_depth': 4,\n",
    "    'classifier_min_samples_split': 16,\n",
    "    'classifier_n_estimators': 363,\n",
    "    'classifier_subsample': np.float64(0.6137554084460873)\n",
    "    }\n",
    "\n",
    "best_learning_rate = rand_search_best_params['classifier_learning_rate']\n",
    "best_subsample = rand_search_best_params['classifier_subsample']\n",
    "\n",
    "param_grid = {\n",
    "    'classifier__n_estimators':[313,363,413], #Number of Trees (boosting rounds) in prediction model \n",
    "    'classifier__learning_rate':[best_learning_rate*0.5,\n",
    "                     best_learning_rate,\n",
    "                     best_learning_rate*1.5],  #Changes weight of contribution from each tree \n",
    "    'classifier__max_depth':[3,4,5], #Controls depth of individual trees \n",
    "    'classifier__subsample':[best_subsample-0.1,best_subsample,best_subsample + 0.1], #Fraction of samples used per boosting round (lowers overfitting)\n",
    "    'classifier__min_samples_split':[12,16,20] #Min samples to split a node\n",
    "}\n",
    "\n",
    "grid = GridSearchCV(\n",
    "    GB_pipeline,\n",
    "    param_grid= param_grid,\n",
    "    cv = 5,\n",
    "    scoring= scoring,\n",
    "    refit= 'F1',\n",
    "    n_jobs= -1\n",
    ")\n",
    "\n",
    "grid.fit(x,y)\n",
    "\n",
    "results = grid.cv_results_\n",
    "best_idx = grid.best_index_\n",
    "\n",
    "print('Best Paramters:',grid.best_params_)\n",
    "print('Best Score',grid.best_score_)\n",
    "\n"
   ]
  },
  {
   "cell_type": "code",
   "execution_count": null,
   "id": "5de7dd47",
   "metadata": {},
   "outputs": [
    {
     "name": "stdout",
     "output_type": "stream",
     "text": [
      "F1: 0.8114338266342467\n",
      "AUC: 0.8882161131809347\n",
      "Acc: 0.8051331697978614\n"
     ]
    }
   ],
   "source": [
    "best_f1   = results['mean_test_F1'][best_idx]\n",
    "best_auc  = results['mean_test_ROC_AUC'][best_idx]\n",
    "best_acc  = results['mean_test_Accuracy'][best_idx]\n",
    "\n",
    "print('F1:',best_f1)\n",
    "print('AUC:',best_auc)\n",
    "print('Acc:',best_acc)"
   ]
  },
  {
   "cell_type": "markdown",
   "id": "b5150fad",
   "metadata": {},
   "source": [
    "Seaching more to find optimal parameters based on previous output"
   ]
  },
  {
   "cell_type": "code",
   "execution_count": 57,
   "id": "97823d60",
   "metadata": {},
   "outputs": [
    {
     "name": "stdout",
     "output_type": "stream",
     "text": [
      "Best Paramters: {'classifier__learning_rate': np.float64(0.016966252220214195), 'classifier__max_depth': 4, 'classifier__min_samples_split': 28, 'classifier__n_estimators': 363, 'classifier__subsample': np.float64(0.6637554084460874)}\n",
      "Best Score 0.8100492831686011\n",
      "F1: 0.8114338266342467\n",
      "AUC: 0.8882161131809347\n",
      "Acc: 0.8051331697978614\n"
     ]
    }
   ],
   "source": [
    "shifted_best_subsample = best_subsample + 0.15 \n",
    "\n",
    "shifted_param_grid={\n",
    "    'classifier__learning_rate': [best_learning_rate],\n",
    "    'classifier__max_depth': [4],\n",
    "    'classifier__min_samples_split': [20,24,28],\n",
    "    'classifier__n_estimators': [363],\n",
    "    'classifier__subsample': [shifted_best_subsample - 0.1 ,\n",
    "                              shifted_best_subsample ,\n",
    "                              min(shifted_best_subsample+ 0.1,1)] \n",
    "}\n",
    "\n",
    "shifted_grid = GridSearchCV(\n",
    "    GB_pipeline,\n",
    "    param_grid= shifted_param_grid,\n",
    "    cv = 5,\n",
    "    scoring= scoring,\n",
    "    refit= 'F1',\n",
    "    n_jobs= -1\n",
    ")\n",
    "\n",
    "shifted_grid.fit(x,y)\n",
    "\n",
    "shifted_results = grid.cv_results_\n",
    "shifted_best_idx = grid.best_index_\n",
    "\n",
    "print('Best Paramters:',shifted_grid.best_params_)\n",
    "print('Best Score',shifted_grid.best_score_)\n",
    "\n",
    "shifted_best_f1   = results['mean_test_F1'][shifted_best_idx]\n",
    "shifted_best_auc  = results['mean_test_ROC_AUC'][shifted_best_idx]\n",
    "shifted_best_acc  = results['mean_test_Accuracy'][shifted_best_idx]\n",
    "\n",
    "print('F1:',shifted_best_f1)\n",
    "print('AUC:',shifted_best_auc)\n",
    "print('Acc:',shifted_best_acc)"
   ]
  },
  {
   "cell_type": "code",
   "execution_count": 60,
   "id": "fb98b0c7",
   "metadata": {},
   "outputs": [
    {
     "name": "stdout",
     "output_type": "stream",
     "text": [
      "{'classifier__learning_rate': np.float64(0.016966252220214195), 'classifier__max_depth': 4, 'classifier__min_samples_split': 20, 'classifier__n_estimators': 363, 'classifier__subsample': np.float64(0.7137554084460873)}\n"
     ]
    }
   ],
   "source": [
    "final_params = grid.best_params_\n",
    "print(final_params)"
   ]
  },
  {
   "cell_type": "markdown",
   "id": "60d095fe",
   "metadata": {},
   "source": [
    "4.5 Fitting onto Training Data"
   ]
  },
  {
   "cell_type": "code",
   "execution_count": null,
   "id": "d58f84ea",
   "metadata": {},
   "outputs": [],
   "source": [
    "best_clf = GradientBoostingClassifier(\n",
    "    n_estimators=363,\n",
    "    learning_rate=0.016966252220214195,\n",
    "    max_depth=4,\n",
    "    subsample=0.7137554084460873,\n",
    "    min_samples_split= 20\n",
    ")\n",
    "\n",
    "#Sets the best found parameters into Pipeline\n",
    "GB_pipeline.set_params(classifier = best_clf)\n",
    "\n",
    "#Fits the data into the pipeline\n",
    "GB_pipeline.fit(x,y)\n",
    "\n",
    "y_val_pred = GB_pipeline.predict(x_val)\n",
    "\n"
   ]
  }
 ],
 "metadata": {
  "kernelspec": {
   "display_name": "venv",
   "language": "python",
   "name": "python3"
  },
  "language_info": {
   "codemirror_mode": {
    "name": "ipython",
    "version": 3
   },
   "file_extension": ".py",
   "mimetype": "text/x-python",
   "name": "python",
   "nbconvert_exporter": "python",
   "pygments_lexer": "ipython3",
   "version": "3.12.7"
  }
 },
 "nbformat": 4,
 "nbformat_minor": 5
}
