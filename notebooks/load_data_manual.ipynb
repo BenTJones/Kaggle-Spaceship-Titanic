{
 "cells": [
  {
   "cell_type": "code",
   "execution_count": null,
   "id": "ae97ed8b",
   "metadata": {},
   "outputs": [],
   "source": [
    "import pandas as pd\n",
    "import numpy as np\n",
    "import seaborn as sns\n",
    "import matplotlib.pyplot as plt"
   ]
  },
  {
   "cell_type": "markdown",
   "id": "78af75a9",
   "metadata": {},
   "source": [
    "1. Below is a code cell, purpose of which is confirming basic stats like Dataframe shape and the proportion of Missing values in the training data."
   ]
  },
  {
   "cell_type": "code",
   "execution_count": null,
   "id": "c2174a34",
   "metadata": {},
   "outputs": [],
   "source": [
    "\n",
    "train = pd.read_csv('../data/raw/train.csv')\n",
    "test = pd.read_csv('../data/raw/test.csv')\n",
    "\n",
    "train_raw = train.copy()\n",
    "test_raw = test.copy()\n",
    "\n",
    "train_pipeline = train_raw.copy()\n",
    "test_pipeline = test_raw.copy()\n",
    "\n",
    "print(f'Train Shape: {train.shape}')\n",
    "print(f'Test Shape: {test.shape}')\n",
    "\n",
    "display(train.head())\n",
    "display(train.isna().mean().sort_values(ascending=False))"
   ]
  },
  {
   "cell_type": "markdown",
   "id": "8ae948a8",
   "metadata": {},
   "source": [
    "Step 2 Data Analysis and Data Cleaning "
   ]
  },
  {
   "cell_type": "markdown",
   "id": "ec5e7d00",
   "metadata": {},
   "source": [
    "2.1 Missing Value Overview\n",
    "To accurately clean data, it's needed to know proportion of missing data of each column. From running the only full cols are Passenger ID and whether they made it. "
   ]
  },
  {
   "cell_type": "code",
   "execution_count": null,
   "id": "ecabe329",
   "metadata": {},
   "outputs": [],
   "source": [
    "missing_frac = train.isna().mean()\n",
    "missing_frac = missing_frac.sort_values(ascending= False)\n",
    "print(missing_frac)\n",
    "full_cols = missing_frac[missing_frac == 0].index.to_list()\n",
    "#print(full_cols)"
   ]
  },
  {
   "cell_type": "markdown",
   "id": "005e1a6a",
   "metadata": {},
   "source": [
    "2.2 Inspection of indivual columns and their distributions: range and obvious outliers."
   ]
  },
  {
   "cell_type": "code",
   "execution_count": null,
   "id": "856d209e",
   "metadata": {},
   "outputs": [],
   "source": [
    "numeric_cols = ['Age', 'Spa', 'FoodCourt','RoomService','VRDeck','ShoppingMall']\n",
    "print('Numeric Column summaries:')\n",
    "display(train[numeric_cols].describe())\n",
    "\n",
    "cat_cols = ['HomePlanet', 'CryoSleep', 'Destination', 'VIP']\n",
    "for col in cat_cols:\n",
    "    print(f'{col}')\n",
    "    print(train[col].value_counts(dropna= False))\n",
    "    print()"
   ]
  },
  {
   "cell_type": "markdown",
   "id": "e283ee18",
   "metadata": {},
   "source": [
    "2.3 Univariate Analysis: Numerical Features and Categorical Features "
   ]
  },
  {
   "cell_type": "code",
   "execution_count": null,
   "id": "ce3ad6c9",
   "metadata": {},
   "outputs": [],
   "source": [
    "\n",
    "for col in numeric_cols:\n",
    "    fig, (ax1,ax2) = plt.subplots(1,2,figsize=(12,4))\n",
    "    \n",
    "    #Histogram\n",
    "    ax1.hist(train[col].dropna(), bins = 30)\n",
    "    ax1.set_title(f'{col} distribution')\n",
    "    ax1.set_label(col)\n",
    "    \n",
    "    #Boxplot \n",
    "    ax2.boxplot(train[col].dropna(), vert=False)\n",
    "    ax2.set_title(f'{col} — boxplot')\n",
    "    ax2.set_xlabel(col)\n",
    "    \n",
    "    plt.tight_layout()\n",
    "    plt.show()\n",
    "    \n",
    "    missing_pct = missing_frac[col] * 100\n",
    "    print(f'{col}: {missing_pct:.1f}% missing\\n')\n"
   ]
  },
  {
   "cell_type": "markdown",
   "id": "6ab0d510",
   "metadata": {},
   "source": [
    "2.4 Bivariate Analysis for both categorical and numerical features\n",
    "First Code box shows the count plot for the categorical data and then splits the count into Transported vs Not based on the categorical column its in.\n",
    "Second box is for numerical data shows the distribution of transported vs Not of the specific columns."
   ]
  },
  {
   "cell_type": "code",
   "execution_count": null,
   "id": "61dd46c0",
   "metadata": {},
   "outputs": [],
   "source": [
    "for col in cat_cols:\n",
    "    fig, (ax1,ax2) = plt.subplots(1,2,figsize = (12,5))\n",
    "    sns.countplot(data = train, x = col, ax = ax1)\n",
    "    ax1.set_title(f'Passenger Count by {col}')\n",
    "    \n",
    "    \n",
    "    sns.countplot(data=train, x= col, hue='Transported', ax = ax2)\n",
    "    ax1.set_title(f'Transported Status by {col}')\n",
    "    \n",
    "    plt.tight_layout()\n",
    "    plt.show()\n"
   ]
  },
  {
   "cell_type": "code",
   "execution_count": null,
   "id": "31c7a8ec",
   "metadata": {},
   "outputs": [],
   "source": [
    "for col in numeric_cols:\n",
    "    sns.boxplot(data = train, x = 'Transported', y = col)\n",
    "    plt.title(f'{col} Distribution by Transported Status')\n",
    "    plt.show()"
   ]
  },
  {
   "cell_type": "markdown",
   "id": "b4c2a003",
   "metadata": {},
   "source": [
    "3. Data Preprocessing and Feature Engineering"
   ]
  },
  {
   "cell_type": "markdown",
   "id": "e580a8f8",
   "metadata": {},
   "source": [
    "3.1 Missing Data Handling and Imputation"
   ]
  },
  {
   "cell_type": "code",
   "execution_count": null,
   "id": "6e091f6e",
   "metadata": {},
   "outputs": [],
   "source": [
    "numeric_medians = {col: train_raw[col].median() for col in numeric_cols}\n",
    "cat_modes = {col: train_raw[col].mode().iloc[0] for col in cat_cols}\n",
    "\n",
    "for df in [train,test]:\n",
    "    train[numeric_cols] = train[numeric_cols].fillna(value= numeric_medians)\n",
    "    train[cat_cols] = train[cat_cols].fillna(value = cat_modes)\n",
    "    "
   ]
  },
  {
   "cell_type": "markdown",
   "id": "868e6711",
   "metadata": {},
   "source": [
    "3.2 Feature Engineering and imputation"
   ]
  },
  {
   "cell_type": "markdown",
   "id": "08ca3d8a",
   "metadata": {},
   "source": [
    "Splits Cabin into Deck, Room Number and side of ship. Also makes Total Spend column and update the columns."
   ]
  },
  {
   "cell_type": "code",
   "execution_count": 40,
   "id": "f168fb4c",
   "metadata": {},
   "outputs": [],
   "source": [
    "new_cols = ['Deck','Num','Side']\n",
    "spending_cols = ['RoomService', 'FoodCourt', 'ShoppingMall', 'Spa', 'VRDeck']\n",
    "\n",
    "for df in [train,test]:\n",
    "    #Creation of group category which can be used to calculate group size outside of the for loop \n",
    "    df['TotalSpend'] = df[spending_cols].sum(axis = 1)\n",
    "    df['Group'] = df['PassengerId'].str.split('_').str[0]\n",
    "    \n",
    "    #Splitting of Cabin into Deck and Side \n",
    "    df[new_cols] = df['Cabin'].str.split('/', expand= True)\n",
    "\n",
    "\n",
    "cat_cols_extended = cat_cols + new_cols\n",
    "numeric_cols_extended = numeric_cols + ['TotalSpend']"
   ]
  },
  {
   "cell_type": "markdown",
   "id": "7011f79e",
   "metadata": {},
   "source": [
    "Calculation of group size and addition to Dataframes"
   ]
  },
  {
   "cell_type": "code",
   "execution_count": 42,
   "id": "fd4e8d80",
   "metadata": {},
   "outputs": [],
   "source": [
    "group_sizes = pd.concat([train['Group'], test['Group']]).value_counts().rename('GroupSize')\n",
    "\n",
    "train['GroupSize'] = train['Group'].map(group_sizes)\n",
    "test['GroupSize'] = test['Group'].map(group_sizes)\n",
    "\n",
    "numeric_cols_extended.append('GroupSize')"
   ]
  },
  {
   "cell_type": "markdown",
   "id": "5b833a89",
   "metadata": {},
   "source": [
    "Drops Non-Needed columns "
   ]
  },
  {
   "cell_type": "code",
   "execution_count": null,
   "id": "e72cdeb9",
   "metadata": {},
   "outputs": [
    {
     "name": "stdout",
     "output_type": "stream",
     "text": [
      "Train shape: (8693, 16) Test shape: (8693, 17)\n"
     ]
    }
   ],
   "source": [
    "cols_to_drop = ['Num','Group','PassengerId','Num']\n",
    "test_pass_ids = test['PassengerId']\n",
    "train_model = train.drop(columns= cols_to_drop)\n",
    "test_model = train.drop(columns= cols_to_drop)\n",
    "\n",
    "y = train_model['Transported'].astype(int)\n",
    "x = train_model.drop(columns=['Transported'])\n"
   ]
  },
  {
   "cell_type": "markdown",
   "id": "6d3026e5",
   "metadata": {},
   "source": [
    "One Hot Encode the categorical Features so a model can use them."
   ]
  }
 ],
 "metadata": {
  "kernelspec": {
   "display_name": "venv",
   "language": "python",
   "name": "python3"
  },
  "language_info": {
   "codemirror_mode": {
    "name": "ipython",
    "version": 3
   },
   "file_extension": ".py",
   "mimetype": "text/x-python",
   "name": "python",
   "nbconvert_exporter": "python",
   "pygments_lexer": "ipython3",
   "version": "3.12.7"
  }
 },
 "nbformat": 4,
 "nbformat_minor": 5
}
